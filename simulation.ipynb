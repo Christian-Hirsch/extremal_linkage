{
 "cells": [
  {
   "cell_type": "markdown",
   "metadata": {},
   "source": [
    "# Extremal linkage networks"
   ]
  },
  {
   "cell_type": "markdown",
   "metadata": {},
   "source": [
    "This notebook contains code accompanying the paper [extremal linkage networks](https://arxiv.org/abs/1904.01817). "
   ]
  },
  {
   "cell_type": "markdown",
   "metadata": {},
   "source": [
    "We first implement the network dynamics and then rely on [TikZ](https://github.com/pgf-tikz/pgf) for visualization."
   ]
  },
  {
   "cell_type": "markdown",
   "metadata": {},
   "source": [
    "## The Model"
   ]
  },
  {
   "cell_type": "markdown",
   "metadata": {},
   "source": [
    "We define a random network on an infinite set of layers, each consisting of $N \\ge 1$ nodes. The node $i \\in  \\{0, \\dots, N - 1\\}$ in layer $h \\in \\mathbb Z$ has a fitness $F_{i, h}$, where we assume the family $\\{F_{i, h}\\}_{i \\in \\{0, \\dots, N - 1\\}, h \\in \\mathbb Z}$ to be independent and identically distributed (i.i.d.).\n"
   ]
  },
  {
   "cell_type": "markdown",
   "metadata": {},
   "source": [
    "Then, the number of nodes on layer $h+1$ that are visible for the $i$th node in layer $h$, which we call the *scope* of $(i,h)$, is given by $\\varphi(F_{i, h}) \\wedge N$, where\n",
    "\\begin{equation}\\label{eqPhiDef}\n",
    "        \\varphi(f) = 1 + 2 \\lceil f \\rceil.\n",
    "\\end{equation}\n"
   ]
  },
  {
   "cell_type": "markdown",
   "metadata": {},
   "source": [
    "Now, $(i, h)$ connects to precisely one visible node $(j, h+1)$ in layer $h+1$, namely the one of maximum fitness.  In other words,\n",
    "$$F_{j, h+1} = \\max_{j':\\, d_N(i, j') \\le \\lceil F_{i, h}\\rceil}F_{j', h+1}.$$"
   ]
  },
  {
   "cell_type": "markdown",
   "metadata": {},
   "source": [
    "\n",
    "Henceforth, we assume the fitnesses to follow a Fréchet distribution with tail index 1. That is,\n",
    "$$\\mathbb P(F \\le s) = \\exp(-s^{-1}).$$\n"
   ]
  },
  {
   "cell_type": "markdown",
   "metadata": {},
   "source": [
    "## Simulation of Network Dynamics"
   ]
  },
  {
   "cell_type": "code",
   "execution_count": null,
   "metadata": {},
   "outputs": [],
   "source": [
    "def simulate_network(hrange = 250,\n",
    "                     layers = 6):\n",
    "    \"\"\"Simulation of the network model\n",
    "    # Arguments\n",
    "        hrange: horizontal range of the network\n",
    "        layers: number of layers\n",
    "       \n",
    "    # Result\n",
    "        fitnesses and selected edge\n",
    "    \"\"\"\n",
    "    #generate fréchet distribution\n",
    "    fits =  np.array([1/np.log(1/np.random.rand(hrange)) for _ in range(layers)]) \n",
    "    fits_int = 1+ np.array(fits, dtype = np.int)\n",
    "    \n",
    "    #determine possible neighbors\n",
    "    neighbs = [[(idx + np.arange(-fit, fit + 1)) % hrange \n",
    "      for  idx, fit in enumerate(layer) ] \n",
    "     for layer in fits_int]\n",
    "\n",
    "    #determine selected neighbor\n",
    "    sel_edge = [[neighb[np.argmax(fit[neighb])] \n",
    "      for neighb in nb] \n",
    "     for (fit, nb) in zip(np.roll(fits, -1, 0), neighbs)]\n",
    "    \n",
    "    return fits, sel_edge"
   ]
  },
  {
   "cell_type": "markdown",
   "metadata": {},
   "source": [
    "Now, we simulate the random network model as described above."
   ]
  },
  {
   "cell_type": "code",
   "execution_count": null,
   "metadata": {},
   "outputs": [],
   "source": [
    "import numpy as np\n",
    "\n",
    "#seed\n",
    "seed = 56\n",
    "np.random.seed(seed)\n",
    "\n",
    "fits, edges = simulate_network()"
   ]
  },
  {
   "cell_type": "markdown",
   "metadata": {},
   "source": [
    "## Visualization"
   ]
  },
  {
   "cell_type": "markdown",
   "metadata": {},
   "source": [
    "Now, plot the network in tikz."
   ]
  },
  {
   "cell_type": "code",
   "execution_count": null,
   "metadata": {},
   "outputs": [],
   "source": [
    "def plot_synapses(edges,\n",
    "                  idxs = np.arange(102, 131),\n",
    "                  layers = 4,\n",
    "                  x_scale = .15,\n",
    "                  node_scale = .5):\n",
    "    \"\"\"Plot relevant synapses\n",
    "    # Arguments\n",
    "        idxs: indexes of layer-0 node\n",
    "        edges: edges in the linkage graph\n",
    "        layers: number of layers to be plotted\n",
    "        x_scale: scaling in x-direction\n",
    "        node_scale: scaling of nodes\n",
    "        \n",
    "    # Result\n",
    "        tikz representation of graph\n",
    "    \"\"\"\n",
    "    result = []\n",
    "\n",
    "    #horizontal range\n",
    "    hrange = len(edges[0])\n",
    "\n",
    "    #plot layer by layer\n",
    "    for layer in range(layers):\n",
    "        #plot points \n",
    "        result +=[\"\\\\fill ({0:1.2f}, {1:1.2f}) circle ({2:1.1f}pt);\\n\".format((idx % hrange) * x_scale, \n",
    "                                                                              layer,\n",
    "                                                                              node_scale * np.log(fits)[layer, idx]) \n",
    "              for idx in idxs] \n",
    "        \n",
    "        #plot edges\n",
    "        string = \"\\\\draw[line width = .5pt]\"\n",
    "        string += \" ({0:1.2f}, {1:1.2f})--({2:1.2f}, {3:1.2f});\\n\"\n",
    "        path_unordered = [string.format(idx  * x_scale,\n",
    "                                        layer,\n",
    "                                        edges[layer][idx] * x_scale,\n",
    "                                        layer + 1) for idx in idxs]\n",
    "        result += path_unordered\n",
    "\n",
    "        #update indexes\n",
    "        idxs = np.unique([edges[layer][idx] for idx in idxs])\n",
    "\n",
    "\n",
    "    #plot points \n",
    "    result +=[\"\\\\fill ({0:1.2f}, {1:1.2f}) circle ({2:1.1f}pt);\\n\".format((idx % hrange) * x_scale, \n",
    "                                                                          layers,\n",
    "                                                                          node_scale * np.log(fits)[layer + 1, idx]) \n",
    "              for idx in idxs] \n",
    "\n",
    "    \n",
    "\n",
    "    tikz = ''.join(result)\n",
    "\n",
    "    return '\\\\begin{tikzpicture}\\n' + tikz + '\\\\end{tikzpicture}\\n'"
   ]
  },
  {
   "cell_type": "markdown",
   "metadata": {},
   "source": [
    "Finally, we write to a file."
   ]
  },
  {
   "cell_type": "code",
   "execution_count": null,
   "metadata": {},
   "outputs": [],
   "source": [
    "fname = 'coalesc.tex'\n",
    "\n",
    "f = open(fname, \"w\")\n",
    "f.write(plot_synapses(idxs,\n",
    "                      edges))\n",
    "f.close()"
   ]
  },
  {
   "cell_type": "code",
   "execution_count": null,
   "metadata": {},
   "outputs": [],
   "source": [
    "!pdflatex evolFig.tex\n"
   ]
  }
 ],
 "metadata": {
  "kernelspec": {
   "display_name": "Python 3",
   "language": "python",
   "name": "python3"
  },
  "language_info": {
   "codemirror_mode": {
    "name": "ipython",
    "version": 3
   },
   "file_extension": ".py",
   "mimetype": "text/x-python",
   "name": "python",
   "nbconvert_exporter": "python",
   "pygments_lexer": "ipython3",
   "version": "3.8.2"
  }
 },
 "nbformat": 4,
 "nbformat_minor": 4
}
